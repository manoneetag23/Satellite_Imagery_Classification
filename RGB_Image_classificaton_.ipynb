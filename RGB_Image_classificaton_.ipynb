{
  "cells": [
    {
      "cell_type": "code",
      "source": [
        "# Step 1: Create a directory to store the dataset\n",
        "!mkdir -p /content/satellite_classification\n",
        "\n",
        "# Step 2: Download the dataset using wget\n",
        "!wget -O /content/satellite_classification/EuroSAT_RGB.zip \"https://zenodo.org/records/7711810/files/EuroSAT_RGB.zip?download=1\"\n",
        "\n",
        "# Step 3: Unzip the dataset\n",
        "!unzip -q /content/satellite_classification/EuroSAT_RGB.zip -d /content/satellite_classification/\n"
      ],
      "metadata": {
        "colab": {
          "base_uri": "https://localhost:8080/"
        },
        "id": "18eA1sA3Ztlo",
        "outputId": "64b02def-bdc0-4396-aa75-67f6df66f2fa"
      },
      "id": "18eA1sA3Ztlo",
      "execution_count": 1,
      "outputs": [
        {
          "output_type": "stream",
          "name": "stdout",
          "text": [
            "--2025-08-03 16:24:25--  https://zenodo.org/records/7711810/files/EuroSAT_RGB.zip?download=1\n",
            "Resolving zenodo.org (zenodo.org)... 188.185.45.92, 188.185.48.194, 188.185.43.25, ...\n",
            "Connecting to zenodo.org (zenodo.org)|188.185.45.92|:443... connected.\n",
            "HTTP request sent, awaiting response... 200 OK\n",
            "Length: 94658721 (90M) [application/octet-stream]\n",
            "Saving to: ‘/content/satellite_classification/EuroSAT_RGB.zip’\n",
            "\n",
            "/content/satellite_ 100%[===================>]  90.27M  20.5MB/s    in 5.4s    \n",
            "\n",
            "2025-08-03 16:24:32 (16.6 MB/s) - ‘/content/satellite_classification/EuroSAT_RGB.zip’ saved [94658721/94658721]\n",
            "\n"
          ]
        }
      ]
    },
    {
      "cell_type": "code",
      "execution_count": 2,
      "id": "8eee28f4",
      "metadata": {
        "id": "8eee28f4"
      },
      "outputs": [],
      "source": [
        "import numpy as np\n",
        "from skimage import io\n",
        "import matplotlib\n",
        "import matplotlib.pyplot as plt\n",
        "import os\n",
        "from glob import glob\n",
        "import torch\n",
        "import torch.nn as nn\n",
        "from tqdm import tqdm\n",
        "from PIL import Image\n",
        "from torch.utils.data import DataLoader, Dataset\n",
        "from torch.autograd import Variable\n",
        "if not os.path.exists('./outputs'):\n",
        "    os.mkdir('./outputs')"
      ]
    },
    {
      "cell_type": "code",
      "source": [
        "import os\n",
        "import shutil\n",
        "from sklearn.model_selection import train_test_split\n",
        "\n",
        "# Define original dataset path (after unzipping EuroSAT_RGB)\n",
        "ORIGINAL_DATASET = \"/content/satellite_classification/EuroSAT_RGB\"  # Update this path if needed\n",
        "DATASET_PATH = \"./EuroSAT_data\"            # Target path with train/test folders\n",
        "\n",
        "# Only run once to create train/test split\n",
        "if not os.path.exists(DATASET_PATH):\n",
        "    print(\"Creating train/test split...\")\n",
        "\n",
        "    classes = os.listdir(ORIGINAL_DATASET)\n",
        "    for cls in classes:\n",
        "        full_path = os.path.join(ORIGINAL_DATASET, cls)\n",
        "        images = os.listdir(full_path)\n",
        "        train_imgs, test_imgs = train_test_split(images, test_size=0.2, random_state=42)\n",
        "\n",
        "        # Create class folders in train/test\n",
        "        for split in ['train', 'test']:\n",
        "            os.makedirs(os.path.join(DATASET_PATH, split, cls), exist_ok=True)\n",
        "\n",
        "        for img in train_imgs:\n",
        "            src = os.path.join(full_path, img)\n",
        "            dst = os.path.join(DATASET_PATH, 'train', cls, img)\n",
        "            shutil.copy(src, dst)\n",
        "\n",
        "        for img in test_imgs:\n",
        "            src = os.path.join(full_path, img)\n",
        "            dst = os.path.join(DATASET_PATH, 'test', cls, img)\n",
        "            shutil.copy(src, dst)\n",
        "\n",
        "    print(\" Done splitting dataset!\")\n"
      ],
      "metadata": {
        "colab": {
          "base_uri": "https://localhost:8080/"
        },
        "id": "_heTxpQYZx-K",
        "outputId": "84011d0b-d49c-405d-9933-414901f707d5"
      },
      "id": "_heTxpQYZx-K",
      "execution_count": 3,
      "outputs": [
        {
          "output_type": "stream",
          "name": "stdout",
          "text": [
            "Creating train/test split...\n",
            " Done splitting dataset!\n"
          ]
        }
      ]
    },
    {
      "cell_type": "code",
      "execution_count": 4,
      "id": "745dbbdf",
      "metadata": {
        "id": "745dbbdf"
      },
      "outputs": [],
      "source": [
        "# Global parameters\n",
        "\n",
        "# If USE_CUDA is True, computations will be done using the GPU (may not work in all systems)\n",
        "# This will make the calculations happen faster\n",
        "USE_CUDA = torch.cuda.is_available()\n",
        "\n",
        "DATASET_PATH = '/content/EuroSAT_data'\n",
        "\n",
        "BATCH_SIZE = 64 # Number of images that are used for calculating gradients at each step\n",
        "\n",
        "NUM_EPOCHS = 25 # Number of times we will go through all the training images. Do not go over 25\n",
        "\n",
        "LEARNING_RATE = 0.001 # Controls the step size\n",
        "MOMENTUM = 0.9 # Momentum for the gradient descent\n",
        "WEIGHT_DECAY = 0.0005"
      ]
    },
    {
      "cell_type": "code",
      "execution_count": 5,
      "id": "cc65618c",
      "metadata": {
        "colab": {
          "base_uri": "https://localhost:8080/"
        },
        "id": "cc65618c",
        "outputId": "aebd1a96-870c-4f8a-92e1-997a802d9bd7"
      },
      "outputs": [
        {
          "output_type": "stream",
          "name": "stdout",
          "text": [
            "Dataloaders OK\n"
          ]
        },
        {
          "output_type": "execute_result",
          "data": {
            "text/plain": [
              "<torch.utils.data.dataloader.DataLoader at 0x7f0a12513650>"
            ]
          },
          "metadata": {},
          "execution_count": 5
        }
      ],
      "source": [
        "# Create datasets and data loaders\n",
        "# Transformations\n",
        "\n",
        "from torchvision import datasets, models, transforms\n",
        "data_transforms = transforms.Compose([\n",
        "        transforms.Resize(64),\n",
        "        transforms.ToTensor(),\n",
        "        transforms.Normalize([0.485, 0.456, 0.406], [0.229, 0.224, 0.225])\n",
        "    ])\n",
        "\n",
        "train_dataset = datasets.ImageFolder(os.path.join(DATASET_PATH, 'train'), data_transforms)\n",
        "train_loader = DataLoader(train_dataset, BATCH_SIZE, shuffle=True, num_workers=2, pin_memory=True)\n",
        "\n",
        "\n",
        "test_dataset = datasets.ImageFolder(os.path.join(DATASET_PATH, 'test'), data_transforms)\n",
        "test_loader = DataLoader(test_dataset, BATCH_SIZE, shuffle=False, num_workers=2, pin_memory=True)\n",
        "\n",
        "class_names = train_dataset.classes\n",
        "\n",
        "print('Dataloaders OK')\n",
        "test_loader"
      ]
    },
    {
      "cell_type": "code",
      "execution_count": 6,
      "id": "1b611aaf",
      "metadata": {
        "colab": {
          "base_uri": "https://localhost:8080/",
          "height": 467
        },
        "id": "1b611aaf",
        "outputId": "b0a7e4a3-d80b-40f5-a027-814babcf1b7d"
      },
      "outputs": [
        {
          "output_type": "stream",
          "name": "stdout",
          "text": [
            "Image label: 6\n"
          ]
        },
        {
          "output_type": "execute_result",
          "data": {
            "text/plain": [
              "<matplotlib.image.AxesImage at 0x7f0a1b214950>"
            ]
          },
          "metadata": {},
          "execution_count": 6
        },
        {
          "output_type": "display_data",
          "data": {
            "text/plain": [
              "<Figure size 640x480 with 1 Axes>"
            ],
            "image/png": "[encoded data removed]"
          },
          "metadata": {}
        }
      ],
      "source": [
        "#Print the corresponding label for the image\n",
        "\n",
        "random_image = train_dataset[13421][0].numpy().transpose((1, 2, 0))\n",
        "mean = np.array([0.485, 0.456, 0.406])\n",
        "std = np.array([0.229, 0.224, 0.225])\n",
        "random_image = std * random_image + mean\n",
        "random_image = np.clip(random_image, 0, 1)\n",
        "print(\"Image label:\", train_dataset[13421][1])\n",
        "plt.imshow(random_image)"
      ]
    },
    {
      "cell_type": "markdown",
      "id": "6a6d205c",
      "metadata": {
        "id": "6a6d205c"
      },
      "source": [
        "# Convolutional Neural Network Architecture"
      ]
    },
    {
      "cell_type": "code",
      "execution_count": 8,
      "id": "f167ce4d",
      "metadata": {
        "id": "f167ce4d"
      },
      "outputs": [],
      "source": [
        "#Create the model class\n",
        "class CNN(nn.Module):\n",
        "    def __init__(self):\n",
        "        super(CNN,self).__init__()\n",
        "        #Same Padding = [(filter size - 1) / 2] (Same Padding--> input size = output size)\n",
        "        self.cnn1 = nn.Conv2d(in_channels=3, out_channels=4, kernel_size=3,stride=1, padding=1)\n",
        "        #The output size of each of the 4 feature maps is\n",
        "        #[(input_size - filter_size + 2(padding) / stride) +1] --> [(64-3+2(1)/1)+1] = 64 (padding type is same)\n",
        "        self.batchnorm1 = nn.BatchNorm2d(4)\n",
        "        self.relu = nn.ReLU(inplace=True)\n",
        "        self.maxpool1 = nn.MaxPool2d(kernel_size=2)\n",
        "\n",
        "        #After max pooling, the output of each feature map is now 64/2 =32\n",
        "        self.cnn2 = nn.Conv2d(in_channels=4, out_channels=8, kernel_size=3, stride=1, padding=1)\n",
        "        #Output size of each of the 32 feature maps\n",
        "        self.batchnorm2 = nn.BatchNorm2d(8)\n",
        "        self.maxpool2 = nn.MaxPool2d(kernel_size=2)\n",
        "\n",
        "        #After max pooling, the output of each feature map is 32/2 = 16\n",
        "        #Flatten the feature maps. You have 8 feature maps, each of them is of size 16x16 --> 8*16*16 = 2048\n",
        "        self.fc1 = nn.Linear(in_features=8*16*16, out_features=32)\n",
        "        self.droput = nn.Dropout(p=0.5)\n",
        "        self.fc2 = nn.Linear(in_features=32, out_features=10)\n",
        "\n",
        "    def forward(self,x):\n",
        "        out = self.cnn1(x)\n",
        "        out = self.batchnorm1(out)\n",
        "        out = self.relu(out)\n",
        "        out = self.maxpool1(out)\n",
        "        out = self.cnn2(out)\n",
        "        out = self.batchnorm2(out)\n",
        "        out = self.relu(out)\n",
        "        out = self.maxpool2(out)\n",
        "\n",
        "        #Now we have to flatten the output. This is where we apply the feed forward neural network as learned before!\n",
        "        #It will take the shape (batch_size, 2048)\n",
        "        out = out.view(x.size(0), -1)\n",
        "\n",
        "        #Then we forward through our fully connected layer\n",
        "        out = self.fc1(out)\n",
        "        out = self.relu(out)\n",
        "        #out = self.droput(out)\n",
        "        out = self.fc2(out)\n",
        "        return out"
      ]
    },
    {
      "cell_type": "markdown",
      "id": "dd9e37ce",
      "metadata": {
        "id": "dd9e37ce"
      },
      "source": [
        "# Create models"
      ]
    },
    {
      "cell_type": "code",
      "execution_count": 9,
      "id": "25429dcc",
      "metadata": {
        "colab": {
          "base_uri": "https://localhost:8080/"
        },
        "id": "25429dcc",
        "outputId": "8a6570c8-90f0-4739-ada7-5714ba1d2077"
      },
      "outputs": [
        {
          "output_type": "stream",
          "name": "stdout",
          "text": [
            "Network OK\n"
          ]
        }
      ],
      "source": [
        "# Create network\n",
        "model = CNN()\n",
        "if USE_CUDA:\n",
        "    model = model.cuda()\n",
        "\n",
        "print('Network OK')"
      ]
    },
    {
      "cell_type": "code",
      "execution_count": 10,
      "id": "711b61a5",
      "metadata": {
        "id": "711b61a5"
      },
      "outputs": [],
      "source": [
        "# Define criterion, optimizer, and scheduler\n",
        "\n",
        "criterion = nn.CrossEntropyLoss()\n",
        "optimizer = torch.optim.SGD(model.parameters(), lr=LEARNING_RATE, momentum=MOMENTUM, weight_decay=WEIGHT_DECAY)\n",
        "scheduler = torch.optim.lr_scheduler.StepLR(optimizer, step_size=7, gamma=0.1)"
      ]
    },
    {
      "cell_type": "markdown",
      "id": "c0ca5c04",
      "metadata": {
        "id": "c0ca5c04"
      },
      "source": [
        "# Training with CNN"
      ]
    },
    {
      "cell_type": "code",
      "execution_count": 11,
      "id": "b3299f44",
      "metadata": {
        "colab": {
          "base_uri": "https://localhost:8080/",
          "height": 1000
        },
        "id": "b3299f44",
        "outputId": "8c615f38-a05b-4750-de87-c6f4d0817517"
      },
      "outputs": [
        {
          "output_type": "stream",
          "name": "stdout",
          "text": [
            "\n",
            "\n",
            "Running epoch 1 of 25...\n",
            "\n",
            "\n",
            "Epoch 1 validation results: Loss=1.1395633522201987 | Accuracy=57.35185241699219\n",
            "\n",
            "\n",
            "\n",
            "Running epoch 2 of 25...\n",
            "\n",
            "\n",
            "Epoch 2 validation results: Loss=0.9038252250236624 | Accuracy=66.24073791503906\n",
            "\n"
          ]
        },
        {
          "output_type": "stream",
          "name": "stderr",
          "text": [
            "/tmp/ipython-input-1172018319.py:77: UserWarning: Ignoring specified arguments in this call because figure with num: 1 already exists\n",
            "  plt.figure(figsize=(12, 8), num=1)\n",
            "/tmp/ipython-input-1172018319.py:88: UserWarning: Ignoring specified arguments in this call because figure with num: 2 already exists\n",
            "  plt.figure(figsize=(12, 8), num=2)\n"
          ]
        },
        {
          "output_type": "stream",
          "name": "stdout",
          "text": [
            "\n",
            "\n",
            "Running epoch 3 of 25...\n",
            "\n",
            "\n",
            "Epoch 3 validation results: Loss=0.8108847959953196 | Accuracy=71.25926208496094\n",
            "\n"
          ]
        },
        {
          "output_type": "stream",
          "name": "stderr",
          "text": [
            "/tmp/ipython-input-1172018319.py:77: UserWarning: Ignoring specified arguments in this call because figure with num: 1 already exists\n",
            "  plt.figure(figsize=(12, 8), num=1)\n",
            "/tmp/ipython-input-1172018319.py:88: UserWarning: Ignoring specified arguments in this call because figure with num: 2 already exists\n",
            "  plt.figure(figsize=(12, 8), num=2)\n"
          ]
        },
        {
          "output_type": "stream",
          "name": "stdout",
          "text": [
            "\n",
            "\n",
            "Running epoch 4 of 25...\n",
            "\n",
            "\n",
            "Epoch 4 validation results: Loss=0.747717938878957 | Accuracy=73.68518829345703\n",
            "\n"
          ]
        },
        {
          "output_type": "stream",
          "name": "stderr",
          "text": [
            "/tmp/ipython-input-1172018319.py:77: UserWarning: Ignoring specified arguments in this call because figure with num: 1 already exists\n",
            "  plt.figure(figsize=(12, 8), num=1)\n",
            "/tmp/ipython-input-1172018319.py:88: UserWarning: Ignoring specified arguments in this call because figure with num: 2 already exists\n",
            "  plt.figure(figsize=(12, 8), num=2)\n"
          ]
        },
        {
          "output_type": "stream",
          "name": "stdout",
          "text": [
            "\n",
            "\n",
            "Running epoch 5 of 25...\n",
            "\n",
            "\n",
            "Epoch 5 validation results: Loss=0.6939427794779048 | Accuracy=75.0\n",
            "\n"
          ]
        },
        {
          "output_type": "stream",
          "name": "stderr",
          "text": [
            "/tmp/ipython-input-1172018319.py:77: UserWarning: Ignoring specified arguments in this call because figure with num: 1 already exists\n",
            "  plt.figure(figsize=(12, 8), num=1)\n",
            "/tmp/ipython-input-1172018319.py:88: UserWarning: Ignoring specified arguments in this call because figure with num: 2 already exists\n",
            "  plt.figure(figsize=(12, 8), num=2)\n"
          ]
        },
        {
          "output_type": "stream",
          "name": "stdout",
          "text": [
            "\n",
            "\n",
            "Running epoch 6 of 25...\n",
            "\n",
            "\n",
            "Epoch 6 validation results: Loss=0.6544308386304799 | Accuracy=77.20370483398438\n",
            "\n"
          ]
        },
        {
          "output_type": "stream",
          "name": "stderr",
          "text": [
            "/tmp/ipython-input-1172018319.py:77: UserWarning: Ignoring specified arguments in this call because figure with num: 1 already exists\n",
            "  plt.figure(figsize=(12, 8), num=1)\n",
            "/tmp/ipython-input-1172018319.py:88: UserWarning: Ignoring specified arguments in this call because figure with num: 2 already exists\n",
            "  plt.figure(figsize=(12, 8), num=2)\n"
          ]
        },
        {
          "output_type": "stream",
          "name": "stdout",
          "text": [
            "\n",
            "\n",
            "Running epoch 7 of 25...\n",
            "\n",
            "\n",
            "Epoch 7 validation results: Loss=0.6717773126986097 | Accuracy=75.75926208496094\n",
            "\n"
          ]
        },
        {
          "output_type": "stream",
          "name": "stderr",
          "text": [
            "/tmp/ipython-input-1172018319.py:77: UserWarning: Ignoring specified arguments in this call because figure with num: 1 already exists\n",
            "  plt.figure(figsize=(12, 8), num=1)\n",
            "/tmp/ipython-input-1172018319.py:88: UserWarning: Ignoring specified arguments in this call because figure with num: 2 already exists\n",
            "  plt.figure(figsize=(12, 8), num=2)\n"
          ]
        },
        {
          "output_type": "stream",
          "name": "stdout",
          "text": [
            "\n",
            "\n",
            "Running epoch 8 of 25...\n",
            "\n",
            "\n",
            "Epoch 8 validation results: Loss=0.5793956728542552 | Accuracy=79.64814758300781\n",
            "\n"
          ]
        },
        {
          "output_type": "stream",
          "name": "stderr",
          "text": [
            "/tmp/ipython-input-1172018319.py:77: UserWarning: Ignoring specified arguments in this call because figure with num: 1 already exists\n",
            "  plt.figure(figsize=(12, 8), num=1)\n",
            "/tmp/ipython-input-1172018319.py:88: UserWarning: Ignoring specified arguments in this call because figure with num: 2 already exists\n",
            "  plt.figure(figsize=(12, 8), num=2)\n"
          ]
        },
        {
          "output_type": "stream",
          "name": "stdout",
          "text": [
            "\n",
            "\n",
            "Running epoch 9 of 25...\n",
            "\n",
            "\n",
            "Epoch 9 validation results: Loss=0.5754706693046233 | Accuracy=79.94444274902344\n",
            "\n"
          ]
        },
        {
          "output_type": "stream",
          "name": "stderr",
          "text": [
            "/tmp/ipython-input-1172018319.py:77: UserWarning: Ignoring specified arguments in this call because figure with num: 1 already exists\n",
            "  plt.figure(figsize=(12, 8), num=1)\n",
            "/tmp/ipython-input-1172018319.py:88: UserWarning: Ignoring specified arguments in this call because figure with num: 2 already exists\n",
            "  plt.figure(figsize=(12, 8), num=2)\n"
          ]
        },
        {
          "output_type": "stream",
          "name": "stdout",
          "text": [
            "\n",
            "\n",
            "Running epoch 10 of 25...\n",
            "\n",
            "\n",
            "Epoch 10 validation results: Loss=0.5714511550962925 | Accuracy=80.24073791503906\n",
            "\n"
          ]
        },
        {
          "output_type": "stream",
          "name": "stderr",
          "text": [
            "/tmp/ipython-input-1172018319.py:77: UserWarning: Ignoring specified arguments in this call because figure with num: 1 already exists\n",
            "  plt.figure(figsize=(12, 8), num=1)\n",
            "/tmp/ipython-input-1172018319.py:88: UserWarning: Ignoring specified arguments in this call because figure with num: 2 already exists\n",
            "  plt.figure(figsize=(12, 8), num=2)\n"
          ]
        },
        {
          "output_type": "stream",
          "name": "stdout",
          "text": [
            "\n",
            "\n",
            "Running epoch 11 of 25...\n",
            "\n",
            "\n",
            "Epoch 11 validation results: Loss=0.5722311027348042 | Accuracy=80.29629516601562\n",
            "\n"
          ]
        },
        {
          "output_type": "stream",
          "name": "stderr",
          "text": [
            "/tmp/ipython-input-1172018319.py:77: UserWarning: Ignoring specified arguments in this call because figure with num: 1 already exists\n",
            "  plt.figure(figsize=(12, 8), num=1)\n",
            "/tmp/ipython-input-1172018319.py:88: UserWarning: Ignoring specified arguments in this call because figure with num: 2 already exists\n",
            "  plt.figure(figsize=(12, 8), num=2)\n"
          ]
        },
        {
          "output_type": "stream",
          "name": "stdout",
          "text": [
            "\n",
            "\n",
            "Running epoch 12 of 25...\n",
            "\n",
            "\n",
            "Epoch 12 validation results: Loss=0.5688494203721776 | Accuracy=80.25926208496094\n",
            "\n"
          ]
        },
        {
          "output_type": "stream",
          "name": "stderr",
          "text": [
            "/tmp/ipython-input-1172018319.py:77: UserWarning: Ignoring specified arguments in this call because figure with num: 1 already exists\n",
            "  plt.figure(figsize=(12, 8), num=1)\n",
            "/tmp/ipython-input-1172018319.py:88: UserWarning: Ignoring specified arguments in this call because figure with num: 2 already exists\n",
            "  plt.figure(figsize=(12, 8), num=2)\n"
          ]
        },
        {
          "output_type": "stream",
          "name": "stdout",
          "text": [
            "\n",
            "\n",
            "Running epoch 13 of 25...\n",
            "\n",
            "\n",
            "Epoch 13 validation results: Loss=0.5719807271133451 | Accuracy=80.0740737915039\n",
            "\n"
          ]
        },
        {
          "output_type": "stream",
          "name": "stderr",
          "text": [
            "/tmp/ipython-input-1172018319.py:77: UserWarning: Ignoring specified arguments in this call because figure with num: 1 already exists\n",
            "  plt.figure(figsize=(12, 8), num=1)\n",
            "/tmp/ipython-input-1172018319.py:88: UserWarning: Ignoring specified arguments in this call because figure with num: 2 already exists\n",
            "  plt.figure(figsize=(12, 8), num=2)\n"
          ]
        },
        {
          "output_type": "stream",
          "name": "stdout",
          "text": [
            "\n",
            "\n",
            "Running epoch 14 of 25...\n",
            "\n",
            "\n",
            "Epoch 14 validation results: Loss=0.5684024168726276 | Accuracy=80.18518829345703\n",
            "\n"
          ]
        },
        {
          "output_type": "stream",
          "name": "stderr",
          "text": [
            "/tmp/ipython-input-1172018319.py:77: UserWarning: Ignoring specified arguments in this call because figure with num: 1 already exists\n",
            "  plt.figure(figsize=(12, 8), num=1)\n",
            "/tmp/ipython-input-1172018319.py:88: UserWarning: Ignoring specified arguments in this call because figure with num: 2 already exists\n",
            "  plt.figure(figsize=(12, 8), num=2)\n"
          ]
        },
        {
          "output_type": "stream",
          "name": "stdout",
          "text": [
            "\n",
            "\n",
            "Running epoch 15 of 25...\n",
            "\n",
            "\n",
            "Epoch 15 validation results: Loss=0.5638790928265628 | Accuracy=80.14814758300781\n",
            "\n"
          ]
        },
        {
          "output_type": "stream",
          "name": "stderr",
          "text": [
            "/tmp/ipython-input-1172018319.py:77: UserWarning: Ignoring specified arguments in this call because figure with num: 1 already exists\n",
            "  plt.figure(figsize=(12, 8), num=1)\n",
            "/tmp/ipython-input-1172018319.py:88: UserWarning: Ignoring specified arguments in this call because figure with num: 2 already exists\n",
            "  plt.figure(figsize=(12, 8), num=2)\n"
          ]
        },
        {
          "output_type": "stream",
          "name": "stdout",
          "text": [
            "\n",
            "\n",
            "Running epoch 16 of 25...\n",
            "\n",
            "\n",
            "Epoch 16 validation results: Loss=0.5617001250824507 | Accuracy=80.44444274902344\n",
            "\n"
          ]
        },
        {
          "output_type": "stream",
          "name": "stderr",
          "text": [
            "/tmp/ipython-input-1172018319.py:77: UserWarning: Ignoring specified arguments in this call because figure with num: 1 already exists\n",
            "  plt.figure(figsize=(12, 8), num=1)\n",
            "/tmp/ipython-input-1172018319.py:88: UserWarning: Ignoring specified arguments in this call because figure with num: 2 already exists\n",
            "  plt.figure(figsize=(12, 8), num=2)\n"
          ]
        },
        {
          "output_type": "stream",
          "name": "stdout",
          "text": [
            "\n",
            "\n",
            "Running epoch 17 of 25...\n",
            "\n",
            "\n",
            "Epoch 17 validation results: Loss=0.5623453790650649 | Accuracy=80.5740737915039\n",
            "\n"
          ]
        },
        {
          "output_type": "stream",
          "name": "stderr",
          "text": [
            "/tmp/ipython-input-1172018319.py:77: UserWarning: Ignoring specified arguments in this call because figure with num: 1 already exists\n",
            "  plt.figure(figsize=(12, 8), num=1)\n",
            "/tmp/ipython-input-1172018319.py:88: UserWarning: Ignoring specified arguments in this call because figure with num: 2 already exists\n",
            "  plt.figure(figsize=(12, 8), num=2)\n"
          ]
        },
        {
          "output_type": "stream",
          "name": "stdout",
          "text": [
            "\n",
            "\n",
            "Running epoch 18 of 25...\n",
            "\n",
            "\n",
            "Epoch 18 validation results: Loss=0.5632717017303495 | Accuracy=80.4259262084961\n",
            "\n"
          ]
        },
        {
          "output_type": "stream",
          "name": "stderr",
          "text": [
            "/tmp/ipython-input-1172018319.py:77: UserWarning: Ignoring specified arguments in this call because figure with num: 1 already exists\n",
            "  plt.figure(figsize=(12, 8), num=1)\n",
            "/tmp/ipython-input-1172018319.py:88: UserWarning: Ignoring specified arguments in this call because figure with num: 2 already exists\n",
            "  plt.figure(figsize=(12, 8), num=2)\n"
          ]
        },
        {
          "output_type": "stream",
          "name": "stdout",
          "text": [
            "\n",
            "\n",
            "Running epoch 19 of 25...\n",
            "\n",
            "\n",
            "Epoch 19 validation results: Loss=0.5648640768931192 | Accuracy=80.33333587646484\n",
            "\n"
          ]
        },
        {
          "output_type": "stream",
          "name": "stderr",
          "text": [
            "/tmp/ipython-input-1172018319.py:77: UserWarning: Ignoring specified arguments in this call because figure with num: 1 already exists\n",
            "  plt.figure(figsize=(12, 8), num=1)\n",
            "/tmp/ipython-input-1172018319.py:88: UserWarning: Ignoring specified arguments in this call because figure with num: 2 already exists\n",
            "  plt.figure(figsize=(12, 8), num=2)\n"
          ]
        },
        {
          "output_type": "stream",
          "name": "stdout",
          "text": [
            "\n",
            "\n",
            "Running epoch 20 of 25...\n",
            "\n",
            "\n",
            "Epoch 20 validation results: Loss=0.5618923081632923 | Accuracy=80.27777862548828\n",
            "\n"
          ]
        },
        {
          "output_type": "stream",
          "name": "stderr",
          "text": [
            "/tmp/ipython-input-1172018319.py:77: UserWarning: Ignoring specified arguments in this call because figure with num: 1 already exists\n",
            "  plt.figure(figsize=(12, 8), num=1)\n"
          ]
        },
        {
          "output_type": "stream",
          "name": "stdout",
          "text": [
            "\n",
            "\n",
            "Running epoch 21 of 25...\n",
            "\n"
          ]
        },
        {
          "output_type": "stream",
          "name": "stderr",
          "text": [
            "/tmp/ipython-input-1172018319.py:88: UserWarning: Ignoring specified arguments in this call because figure with num: 2 already exists\n",
            "  plt.figure(figsize=(12, 8), num=2)\n"
          ]
        },
        {
          "output_type": "stream",
          "name": "stdout",
          "text": [
            "\n",
            "Epoch 21 validation results: Loss=0.5637649615021313 | Accuracy=80.51851654052734\n",
            "\n"
          ]
        },
        {
          "output_type": "stream",
          "name": "stderr",
          "text": [
            "/tmp/ipython-input-1172018319.py:77: UserWarning: Ignoring specified arguments in this call because figure with num: 1 already exists\n",
            "  plt.figure(figsize=(12, 8), num=1)\n",
            "/tmp/ipython-input-1172018319.py:88: UserWarning: Ignoring specified arguments in this call because figure with num: 2 already exists\n",
            "  plt.figure(figsize=(12, 8), num=2)\n"
          ]
        },
        {
          "output_type": "stream",
          "name": "stdout",
          "text": [
            "\n",
            "\n",
            "Running epoch 22 of 25...\n",
            "\n",
            "\n",
            "Epoch 22 validation results: Loss=0.5603742110378602 | Accuracy=80.59259033203125\n",
            "\n"
          ]
        },
        {
          "output_type": "stream",
          "name": "stderr",
          "text": [
            "/tmp/ipython-input-1172018319.py:77: UserWarning: Ignoring specified arguments in this call because figure with num: 1 already exists\n",
            "  plt.figure(figsize=(12, 8), num=1)\n",
            "/tmp/ipython-input-1172018319.py:88: UserWarning: Ignoring specified arguments in this call because figure with num: 2 already exists\n",
            "  plt.figure(figsize=(12, 8), num=2)\n"
          ]
        },
        {
          "output_type": "stream",
          "name": "stdout",
          "text": [
            "\n",
            "\n",
            "Running epoch 23 of 25...\n",
            "\n",
            "\n",
            "Epoch 23 validation results: Loss=0.5614408754250583 | Accuracy=80.40740966796875\n",
            "\n"
          ]
        },
        {
          "output_type": "stream",
          "name": "stderr",
          "text": [
            "/tmp/ipython-input-1172018319.py:77: UserWarning: Ignoring specified arguments in this call because figure with num: 1 already exists\n",
            "  plt.figure(figsize=(12, 8), num=1)\n",
            "/tmp/ipython-input-1172018319.py:88: UserWarning: Ignoring specified arguments in this call because figure with num: 2 already exists\n",
            "  plt.figure(figsize=(12, 8), num=2)\n"
          ]
        },
        {
          "output_type": "stream",
          "name": "stdout",
          "text": [
            "\n",
            "\n",
            "Running epoch 24 of 25...\n",
            "\n",
            "\n",
            "Epoch 24 validation results: Loss=0.5632005193654228 | Accuracy=80.31481170654297\n",
            "\n"
          ]
        },
        {
          "output_type": "stream",
          "name": "stderr",
          "text": [
            "/tmp/ipython-input-1172018319.py:77: UserWarning: Ignoring specified arguments in this call because figure with num: 1 already exists\n",
            "  plt.figure(figsize=(12, 8), num=1)\n",
            "/tmp/ipython-input-1172018319.py:88: UserWarning: Ignoring specified arguments in this call because figure with num: 2 already exists\n",
            "  plt.figure(figsize=(12, 8), num=2)\n"
          ]
        },
        {
          "output_type": "stream",
          "name": "stdout",
          "text": [
            "\n",
            "\n",
            "Running epoch 25 of 25...\n",
            "\n",
            "\n",
            "Epoch 25 validation results: Loss=0.5626811387346071 | Accuracy=80.48148345947266\n",
            "\n"
          ]
        },
        {
          "output_type": "stream",
          "name": "stderr",
          "text": [
            "/tmp/ipython-input-1172018319.py:77: UserWarning: Ignoring specified arguments in this call because figure with num: 1 already exists\n",
            "  plt.figure(figsize=(12, 8), num=1)\n",
            "/tmp/ipython-input-1172018319.py:88: UserWarning: Ignoring specified arguments in this call because figure with num: 2 already exists\n",
            "  plt.figure(figsize=(12, 8), num=2)\n"
          ]
        },
        {
          "output_type": "display_data",
          "data": {
            "text/plain": [
              "<Figure size 1200x800 with 1 Axes>"
            ],
            "image/png": "[encoded data removed]"
          },
          "metadata": {}
        },
        {
          "output_type": "display_data",
          "data": {
            "text/plain": [
              "<Figure size 1200x800 with 1 Axes>"
            ],
            "image/png": "[encoded data removed]"
          },
          "metadata": {}
        }
      ],
      "source": [
        "# Main loop\n",
        "train_loss = []\n",
        "train_accuracy = []\n",
        "test_loss = []\n",
        "test_accuracy = []\n",
        "epochs = []\n",
        "\n",
        "for epoch in range(1, NUM_EPOCHS+1):\n",
        "    print(f'\\n\\nRunning epoch {epoch} of {NUM_EPOCHS}...\\n')\n",
        "    epochs.append(epoch)\n",
        "\n",
        "    #-------------------------Train-------------------------\n",
        "\n",
        "    #Reset these below variables to 0 at the begining of every epoch\n",
        "    correct = 0\n",
        "    iterations = 0\n",
        "    iter_loss = 0.0\n",
        "\n",
        "    model.train()  # Put the network into training mode\n",
        "\n",
        "    for i, (inputs, labels) in enumerate(train_loader):\n",
        "\n",
        "        if USE_CUDA:\n",
        "            inputs = inputs.cuda()\n",
        "            labels = labels.cuda()\n",
        "\n",
        "        outputs = model(inputs)\n",
        "        loss = criterion(outputs, labels)\n",
        "        iter_loss += loss.item()  # Accumulate the loss\n",
        "        optimizer.zero_grad() # Clear off the gradient in (w = w - gradient)\n",
        "        loss.backward()   # Backpropagation\n",
        "        optimizer.step()  # Update the weights\n",
        "\n",
        "        # Record the correct predictions for training data\n",
        "        _, predicted = torch.max(outputs, 1)\n",
        "        correct += (predicted == labels).sum()\n",
        "        iterations += 1\n",
        "\n",
        "    scheduler.step()\n",
        "\n",
        "    # Record the training loss\n",
        "    train_loss.append(iter_loss/iterations)\n",
        "    # Record the training accuracy\n",
        "    train_accuracy.append((100 * correct / len(train_dataset)))\n",
        "\n",
        "    #-------------------------Test--------------------------\n",
        "\n",
        "    correct = 0\n",
        "    iterations = 0\n",
        "    testing_loss = 0.0\n",
        "\n",
        "    model.eval()  # Put the network into evaluation mode\n",
        "\n",
        "    for i, (inputs, labels) in enumerate(test_loader):\n",
        "\n",
        "        if USE_CUDA:\n",
        "            inputs = inputs.cuda()\n",
        "            labels = labels.cuda()\n",
        "\n",
        "        outputs = model(inputs)\n",
        "        loss = criterion(outputs, labels) # Calculate the loss\n",
        "        testing_loss += loss.item()\n",
        "        # Record the correct predictions for training data\n",
        "        _, predicted = torch.max(outputs, 1)\n",
        "        correct += (predicted == labels).sum()\n",
        "\n",
        "        iterations += 1\n",
        "\n",
        "    # Record the Testing loss\n",
        "    test_loss.append(testing_loss/iterations)\n",
        "    # Record the Testing accuracy\n",
        "    test_accuracy.append((100 * correct / len(test_dataset)))\n",
        "\n",
        "    print(f'\\nEpoch {epoch} validation results: Loss={test_loss[-1]} | Accuracy={test_accuracy[-1]}\\n')\n",
        "\n",
        "    # Plot and save\n",
        "    plt.figure(figsize=(12, 8), num=1)\n",
        "    plt.clf()\n",
        "    plt.plot(epochs, train_loss, label='Train')\n",
        "    plt.plot(epochs, test_loss, label='Test')\n",
        "    plt.legend()\n",
        "    plt.grid()\n",
        "    plt.title('Cross entropy loss')\n",
        "    plt.xlabel('Epoch')\n",
        "    plt.ylabel('Loss')\n",
        "    plt.savefig('outputs/01-loss-cnn.pdf')\n",
        "\n",
        "    plt.figure(figsize=(12, 8), num=2)\n",
        "    plt.clf()\n",
        "    plt.plot(epochs, train_accuracy, label='Train')\n",
        "    plt.plot(epochs, test_accuracy, label='Test')\n",
        "    plt.legend()\n",
        "    plt.grid()\n",
        "    plt.title('Accuracy')\n",
        "    plt.xlabel('Epoch')\n",
        "    plt.ylabel('Accuracy')\n",
        "    plt.savefig('outputs/02-accuracy-cnn.pdf')"
      ]
    },
    {
      "cell_type": "markdown",
      "id": "252edc3a",
      "metadata": {
        "id": "252edc3a"
      },
      "source": [
        "# Results"
      ]
    },
    {
      "cell_type": "code",
      "execution_count": 12,
      "id": "edc6a876",
      "metadata": {
        "colab": {
          "base_uri": "https://localhost:8080/"
        },
        "id": "edc6a876",
        "outputId": "c680d63d-f241-4459-b6ea-0c55b82c681f"
      },
      "outputs": [
        {
          "output_type": "stream",
          "name": "stdout",
          "text": [
            "Final train loss: 0.4953315839083237\n",
            "Final test loss: 0.5626811387346071\n",
            "Final train accuracy: 82.81018829345703\n",
            "Final test accuracy: 80.48148345947266\n"
          ]
        }
      ],
      "source": [
        "print(f'Final train loss: {train_loss[-1]}')\n",
        "print(f'Final test loss: {test_loss[-1]}')\n",
        "print(f'Final train accuracy: {train_accuracy[-1]}')\n",
        "print(f'Final test accuracy: {test_accuracy[-1]}')"
      ]
    },
    {
      "cell_type": "code",
      "source": [
        "import random\n",
        "import matplotlib.pyplot as plt\n",
        "import torchvision.transforms.functional as TF\n",
        "import torch\n",
        "\n",
        "# Set model to evaluation mode\n",
        "model.eval()\n",
        "\n",
        "# Get one random sample from the test dataset\n",
        "sample_idx = random.randint(0, len(test_dataset) - 1)\n",
        "image, true_label = test_dataset[sample_idx]\n",
        "\n",
        "# Add a batch dimension\n",
        "input_image = image.unsqueeze(0)\n",
        "\n",
        "if USE_CUDA:\n",
        "    input_image = input_image.cuda()\n",
        "\n",
        "# Get prediction\n",
        "with torch.no_grad():\n",
        "    output = model(input_image)\n",
        "    _, predicted_class = torch.max(output, 1)\n",
        "\n",
        "# Convert tensor image to numpy for plotting\n",
        "# Denormalize before displaying (reverse of Normalize transform)\n",
        "mean = torch.tensor([0.485, 0.456, 0.406])\n",
        "std = torch.tensor([0.229, 0.224, 0.225])\n",
        "img = image.permute(1, 2, 0) * std + mean  # De-normalize\n",
        "img = img.clamp(0, 1).cpu().numpy()       # Clamp to valid range\n",
        "\n",
        "# Plot\n",
        "plt.figure(figsize=(5, 5))\n",
        "plt.imshow(img)\n",
        "plt.axis('off')\n",
        "plt.title(f'Predicted: {class_names[predicted_class.item()]} | True: {class_names[true_label]}')\n",
        "plt.show()\n"
      ],
      "metadata": {
        "colab": {
          "base_uri": "https://localhost:8080/",
          "height": 444
        },
        "id": "C9_zO38ldmw8",
        "outputId": "e088e26d-bdb5-46e4-8c35-9390816955af"
      },
      "id": "C9_zO38ldmw8",
      "execution_count": 13,
      "outputs": [
        {
          "output_type": "display_data",
          "data": {
            "text/plain": [
              "<Figure size 500x500 with 1 Axes>"
            ],
            "image/png": "[encoded data removed]"
          },
          "metadata": {}
        }
      ]
    }
  ],
  "metadata": {
    "kernelspec": {
      "display_name": "Python 3 (ipykernel)",
      "language": "python",
      "name": "python3"
    },
    "language_info": {
      "codemirror_mode": {
        "name": "ipython",
        "version": 3
      },
      "file_extension": ".py",
      "mimetype": "text/x-python",
      "name": "python",
      "nbconvert_exporter": "python",
      "pygments_lexer": "ipython3",
      "version": "3.9.7"
    },
    "colab": {
      "provenance": []
    }
  },
  "nbformat": 4,
  "nbformat_minor": 5
}